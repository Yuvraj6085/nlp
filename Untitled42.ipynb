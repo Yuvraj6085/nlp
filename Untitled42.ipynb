{
  "nbformat": 4,
  "nbformat_minor": 0,
  "metadata": {
    "colab": {
      "provenance": [],
      "authorship_tag": "ABX9TyPDX8qZF+OLU7rTK1LcivMO",
      "include_colab_link": true
    },
    "kernelspec": {
      "name": "python3",
      "display_name": "Python 3"
    },
    "language_info": {
      "name": "python"
    }
  },
  "cells": [
    {
      "cell_type": "markdown",
      "metadata": {
        "id": "view-in-github",
        "colab_type": "text"
      },
      "source": [
        "<a href=\"https://colab.research.google.com/github/Yuvraj6085/nlp/blob/main/Untitled42.ipynb\" target=\"_parent\"><img src=\"https://colab.research.google.com/assets/colab-badge.svg\" alt=\"Open In Colab\"/></a>"
      ]
    },
    {
      "cell_type": "code",
      "execution_count": 1,
      "metadata": {
        "id": "pWzf95OqRpiQ"
      },
      "outputs": [],
      "source": [
        "#Bag of words"
      ]
    },
    {
      "cell_type": "code",
      "source": [
        "import nltk\n",
        "import re"
      ],
      "metadata": {
        "id": "ZHbAxcKLR8jQ"
      },
      "execution_count": 2,
      "outputs": []
    },
    {
      "cell_type": "code",
      "source": [
        "text=\"Beans. I was trying to explain to somebody as we were flying in, that's corn. That's beans. And they were very impressed at my agricultural knowledge. Please give it up for Amaury once again for that outstanding introduction. I have a bunch of good friends here today, including somebody who I served with, who is one of the finest senators in the country and we're lucky to have him, your Senator, Dick Durbin is here. I also noticed, by the way, former Governor Edgar here, who I haven't seen in a long time and somehow he has not aged and I have. And it's great to see you, Governor. I want to thank President Killeen and everybody at the U of I System for making it possible for me to be here today. And I am deeply honored at the Paul Douglas Award that is being given to me. He is somebody who set the path for so much outstanding public service here in Illinois. Now, I want to start by addressing the elephant in the room. I know people are still wondering why I didn't speak at the commencement.\""
      ],
      "metadata": {
        "id": "Gd4UG6dUSBNe"
      },
      "execution_count": 3,
      "outputs": []
    },
    {
      "cell_type": "code",
      "metadata": {
        "colab": {
          "base_uri": "https://localhost:8080/"
        },
        "id": "1400f65a",
        "outputId": "b77be511-2f4b-4cbb-df7b-2684a89f2635"
      },
      "source": [
        "nltk.download('punkt_tab')"
      ],
      "execution_count": 6,
      "outputs": [
        {
          "output_type": "stream",
          "name": "stderr",
          "text": [
            "[nltk_data] Downloading package punkt_tab to /root/nltk_data...\n",
            "[nltk_data]   Unzipping tokenizers/punkt_tab.zip.\n"
          ]
        },
        {
          "output_type": "execute_result",
          "data": {
            "text/plain": [
              "True"
            ]
          },
          "metadata": {},
          "execution_count": 6
        }
      ]
    },
    {
      "cell_type": "code",
      "source": [
        "dataset = nltk.sent_tokenize(text)"
      ],
      "metadata": {
        "id": "_mEIYeprSg62"
      },
      "execution_count": 8,
      "outputs": []
    },
    {
      "cell_type": "code",
      "source": [
        "dataset"
      ],
      "metadata": {
        "colab": {
          "base_uri": "https://localhost:8080/"
        },
        "id": "VGI6np9HShXU",
        "outputId": "1f9fe70d-e8a9-43cd-9c39-72214ac3ec37"
      },
      "execution_count": 9,
      "outputs": [
        {
          "output_type": "execute_result",
          "data": {
            "text/plain": [
              "['Beans.',\n",
              " \"I was trying to explain to somebody as we were flying in, that's corn.\",\n",
              " \"That's beans.\",\n",
              " 'And they were very impressed at my agricultural knowledge.',\n",
              " 'Please give it up for Amaury once again for that outstanding introduction.',\n",
              " \"I have a bunch of good friends here today, including somebody who I served with, who is one of the finest senators in the country and we're lucky to have him, your Senator, Dick Durbin is here.\",\n",
              " \"I also noticed, by the way, former Governor Edgar here, who I haven't seen in a long time and somehow he has not aged and I have.\",\n",
              " \"And it's great to see you, Governor.\",\n",
              " 'I want to thank President Killeen and everybody at the U of I System for making it possible for me to be here today.',\n",
              " 'And I am deeply honored at the Paul Douglas Award that is being given to me.',\n",
              " 'He is somebody who set the path for so much outstanding public service here in Illinois.',\n",
              " 'Now, I want to start by addressing the elephant in the room.',\n",
              " \"I know people are still wondering why I didn't speak at the commencement.\"]"
            ]
          },
          "metadata": {},
          "execution_count": 9
        }
      ]
    },
    {
      "cell_type": "code",
      "source": [
        "for i in range(len(dataset)):\n",
        "    dataset[i] = dataset[i].lower()\n",
        "    dataset[i] = re.sub(r'\\W',' ',dataset[i])\n",
        "    dataset[i] = re.sub(r'\\s+',' ',dataset[i])\n",
        "for i,sentence in enumerate(dataset):\n",
        "    print(f\"Sentence {i+1}: {sentence}\")"
      ],
      "metadata": {
        "colab": {
          "base_uri": "https://localhost:8080/"
        },
        "id": "hhUMPjhGSjtS",
        "outputId": "8985f21d-6ea9-4c76-81b0-809d5600b065"
      },
      "execution_count": 10,
      "outputs": [
        {
          "output_type": "stream",
          "name": "stdout",
          "text": [
            "Sentence 1: beans \n",
            "Sentence 2: i was trying to explain to somebody as we were flying in that s corn \n",
            "Sentence 3: that s beans \n",
            "Sentence 4: and they were very impressed at my agricultural knowledge \n",
            "Sentence 5: please give it up for amaury once again for that outstanding introduction \n",
            "Sentence 6: i have a bunch of good friends here today including somebody who i served with who is one of the finest senators in the country and we re lucky to have him your senator dick durbin is here \n",
            "Sentence 7: i also noticed by the way former governor edgar here who i haven t seen in a long time and somehow he has not aged and i have \n",
            "Sentence 8: and it s great to see you governor \n",
            "Sentence 9: i want to thank president killeen and everybody at the u of i system for making it possible for me to be here today \n",
            "Sentence 10: and i am deeply honored at the paul douglas award that is being given to me \n",
            "Sentence 11: he is somebody who set the path for so much outstanding public service here in illinois \n",
            "Sentence 12: now i want to start by addressing the elephant in the room \n",
            "Sentence 13: i know people are still wondering why i didn t speak at the commencement \n"
          ]
        }
      ]
    },
    {
      "cell_type": "code",
      "metadata": {
        "colab": {
          "base_uri": "https://localhost:8080/"
        },
        "id": "483373a8",
        "outputId": "a37daede-246d-47c4-c342-3a47d52820fa"
      },
      "source": [
        "nltk.download('stopwords')"
      ],
      "execution_count": 15,
      "outputs": [
        {
          "output_type": "stream",
          "name": "stderr",
          "text": [
            "[nltk_data] Downloading package stopwords to /root/nltk_data...\n",
            "[nltk_data]   Unzipping corpora/stopwords.zip.\n"
          ]
        },
        {
          "output_type": "execute_result",
          "data": {
            "text/plain": [
              "True"
            ]
          },
          "metadata": {},
          "execution_count": 15
        }
      ]
    },
    {
      "cell_type": "code",
      "source": [
        "import nltk\n",
        "from nltk.corpus import stopwords\n",
        "import pandas as pd\n",
        "word2count = {}\n",
        "\n",
        "for data in dataset:\n",
        "    words = nltk.word_tokenize(data)\n",
        "    for word in words:\n",
        "        if word not in word2count:\n",
        "            word2count[word] = 1\n",
        "        else:\n",
        "            word2count[word] += 1\n",
        "\n",
        "stop_words = set(stopwords.words('english'))\n",
        "\n",
        "filtered_word2count = {word: count for word, count in word2count.items() if word not in stop_words}\n",
        "\n",
        "word_freq_df = pd.DataFrame(list(filtered_word2count.items()), columns=['Word', 'Frequency'])\n",
        "\n",
        "word_freq_df = word_freq_df.sort_values(by='Frequency', ascending=False)\n",
        "\n",
        "print(word_freq_df)"
      ],
      "metadata": {
        "colab": {
          "base_uri": "https://localhost:8080/"
        },
        "id": "LY6gABYOV3U_",
        "outputId": "07635bdc-b180-4e68-c5b5-b1050e592c8a"
      },
      "execution_count": 16,
      "outputs": [
        {
          "output_type": "stream",
          "name": "stdout",
          "text": [
            "            Word  Frequency\n",
            "3       somebody          3\n",
            "0          beans          2\n",
            "17         today          2\n",
            "12   outstanding          2\n",
            "41          want          2\n",
            "..           ...        ...\n",
            "67        people          1\n",
            "68         still          1\n",
            "69     wondering          1\n",
            "70         speak          1\n",
            "71  commencement          1\n",
            "\n",
            "[72 rows x 2 columns]\n"
          ]
        }
      ]
    },
    {
      "cell_type": "code",
      "source": [],
      "metadata": {
        "id": "NNMPU4UhV37G"
      },
      "execution_count": null,
      "outputs": []
    }
  ]
}